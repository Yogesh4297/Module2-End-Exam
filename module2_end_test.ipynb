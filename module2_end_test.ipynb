{
  "nbformat": 4,
  "nbformat_minor": 0,
  "metadata": {
    "colab": {
      "name": "module2 end test.ipynb",
      "provenance": [],
      "collapsed_sections": [],
      "authorship_tag": "ABX9TyNFNpZdu8LNj29KErsthuJL",
      "include_colab_link": true
    },
    "kernelspec": {
      "name": "python3",
      "display_name": "Python 3"
    },
    "language_info": {
      "name": "python"
    }
  },
  "cells": [
    {
      "cell_type": "markdown",
      "metadata": {
        "id": "view-in-github",
        "colab_type": "text"
      },
      "source": [
        "<a href=\"https://colab.research.google.com/github/Yogesh4297/Module2-End-Exam/blob/main/module2_end_test.ipynb\" target=\"_parent\"><img src=\"https://colab.research.google.com/assets/colab-badge.svg\" alt=\"Open In Colab\"/></a>"
      ]
    },
    {
      "cell_type": "code",
      "execution_count": 1,
      "metadata": {
        "id": "p7np3Gj9i_Z0"
      },
      "outputs": [],
      "source": [
        "#Q.1) Convert given hrs & mins in second"
      ]
    },
    {
      "cell_type": "code",
      "source": [
        "a=int(input(\"Enter the hours:\"))\n",
        "b=int(input(\"Enter the minutes\"))\n",
        "c=a*3600 + b*60\n",
        "print(\"total seconds are:\",c)"
      ],
      "metadata": {
        "colab": {
          "base_uri": "https://localhost:8080/"
        },
        "id": "JTy69pd5lg8D",
        "outputId": "b652baea-35ca-4db8-9338-b1ec7719778f"
      },
      "execution_count": 2,
      "outputs": [
        {
          "output_type": "stream",
          "name": "stdout",
          "text": [
            "Enter the hours:9\n",
            "Enter the minutes15\n",
            "total seconds are: 33300\n"
          ]
        }
      ]
    },
    {
      "cell_type": "code",
      "source": [
        "#Q.2) Write code to find the average of ‘n’ numbers entered by the user to function avg ( ).Ex: avg (10, 20, 30, 40) => average is: 70avg (5, "
      ],
      "metadata": {
        "id": "R9_0ISyG1pWi"
      },
      "execution_count": 62,
      "outputs": []
    },
    {
      "cell_type": "code",
      "source": [
        "num_list=[10,20,30,40]\n",
        "res = sum(num_list)\n",
        "avg = res/len(num_list)\n",
        "print(\"sum is:\",res,\"average is:\",avg)"
      ],
      "metadata": {
        "colab": {
          "base_uri": "https://localhost:8080/"
        },
        "id": "zAbLsG0K1rMx",
        "outputId": "26347b97-82bd-478e-e221-f56e5b37b58e"
      },
      "execution_count": 63,
      "outputs": [
        {
          "output_type": "stream",
          "name": "stdout",
          "text": [
            "sum is: 100 average is: 25.0\n"
          ]
        }
      ]
    },
    {
      "cell_type": "code",
      "source": [
        "#Q.3) Print\n",
        "1\n",
        "0 1\n",
        "0 1 0\n",
        "1 0 1 0\n",
        "1 0 1 0 1"
      ],
      "metadata": {
        "colab": {
          "base_uri": "https://localhost:8080/",
          "height": 130
        },
        "id": "TWCg4N9lmDcs",
        "outputId": "b19b4bfd-c3ed-48f7-93d5-1653bb357a7f"
      },
      "execution_count": 3,
      "outputs": [
        {
          "output_type": "error",
          "ename": "SyntaxError",
          "evalue": "ignored",
          "traceback": [
            "\u001b[0;36m  File \u001b[0;32m\"<ipython-input-3-31e939a5beed>\"\u001b[0;36m, line \u001b[0;32m3\u001b[0m\n\u001b[0;31m    0 1\u001b[0m\n\u001b[0m      ^\u001b[0m\n\u001b[0;31mSyntaxError\u001b[0m\u001b[0;31m:\u001b[0m invalid syntax\n"
          ]
        }
      ]
    },
    {
      "cell_type": "code",
      "source": [
        "for i in range(0,6):\n",
        "  print(i,end=\"\")\n",
        "  for j in range(1,)"
      ],
      "metadata": {
        "id": "gGGlHDqnmg_U"
      },
      "execution_count": null,
      "outputs": []
    },
    {
      "cell_type": "code",
      "source": [
        "#Q.4) Write a code to accept a number & print\n",
        "#in words.\n",
        "#Ex: 123\n",
        "#Three\n",
        "#Two\n",
        "#One"
      ],
      "metadata": {
        "id": "BQ5D9picnrBb"
      },
      "execution_count": 6,
      "outputs": []
    },
    {
      "cell_type": "code",
      "source": [
        "def printWord(N):\n",
        "  i=0\n",
        "  length = len(N)\n",
        "  while i<length:\n",
        "    printValue(N[i])\n",
        "    i +=1\n",
        "N=\"123\"\n",
        "printWord(N)"
      ],
      "metadata": {
        "colab": {
          "base_uri": "https://localhost:8080/"
        },
        "id": "fo4HYjhUnspr",
        "outputId": "32a7dd62-0052-4904-e4ca-7644c03a3d21"
      },
      "execution_count": 19,
      "outputs": [
        {
          "output_type": "stream",
          "name": "stdout",
          "text": [
            "OneTwoThree"
          ]
        }
      ]
    },
    {
      "cell_type": "code",
      "source": [
        "#Q.7) Convert Paise in Rupees &\n",
        "#Paises\n",
        "#Ex: 350 is 3 Rupees 50 Paise\n",
        "#3.50 print Rupees: 3\n",
        "#Paise: 50"
      ],
      "metadata": {
        "id": "_oPjjwOOpIlN"
      },
      "execution_count": 20,
      "outputs": []
    },
    {
      "cell_type": "code",
      "source": [
        "a=int(input(\"Enter the total amount in paisa:\"))\n",
        "x=0\n",
        "y=0\n",
        "x=a%100\n",
        "y=a//100\n",
        "print(\"rupees are:\",y,\"& paisas are:\",x)\n",
        "b=float(input(\"Enter the total amount in rupees\"))\n",
        "c=b/0.01\n",
        "p=c%100\n",
        "q=c//100\n",
        "print(\"rupees are:\",q,\"paisas are:\",p)"
      ],
      "metadata": {
        "colab": {
          "base_uri": "https://localhost:8080/"
        },
        "id": "jnpGrkWsq3qZ",
        "outputId": "c73cdf84-8624-498e-c7c0-8c247bc27723"
      },
      "execution_count": 60,
      "outputs": [
        {
          "output_type": "stream",
          "name": "stdout",
          "text": [
            "Enter the total amount in paisa:350\n",
            "rupees are: 3 & paisas are: 50\n",
            "Enter the total amount in rupees3.5\n",
            "rupees are: 3.0 paisas are: 50.0\n"
          ]
        }
      ]
    },
    {
      "cell_type": "code",
      "source": [
        "#Q.10) Create menu driven code for\n",
        "#1) Accept 2 numbers\n",
        "#2) Add\n",
        "#3) Sub\n",
        "#4) Mul\n",
        "#5) Div"
      ],
      "metadata": {
        "id": "hp9-5fqFtju8"
      },
      "execution_count": 37,
      "outputs": []
    },
    {
      "cell_type": "code",
      "source": [
        "a=float(input(\"Enter the number a:\"))\n",
        "b=float(input(\"Enter the number b:\"))\n",
        "if a>b:\n",
        "  print(\"number a:\",a,\"number b:\",b,\"addition:\",a+b,\"subrtraction:\",a-b,\"multiplication:\",a*b,\"division:\",a/b)\n",
        "else:\n",
        "  print(\"number a:\",a,\"number b:\",b,\"addition:\",a+b,\"subrtraction:\",b-a,\"multiplication:\",a*b,\"division:\",b/a)"
      ],
      "metadata": {
        "colab": {
          "base_uri": "https://localhost:8080/"
        },
        "id": "H3L3TtZdt2Ig",
        "outputId": "836530be-57f7-4f00-f47b-0fc50c930c94"
      },
      "execution_count": 46,
      "outputs": [
        {
          "output_type": "stream",
          "name": "stdout",
          "text": [
            "Enter the number a:15\n",
            "Enter the number b:20\n",
            "number a: 15.0 number b: 20.0 addition: 35.0 subrtraction: 5.0 multiplication: 300.0 division: 1.3333333333333333\n"
          ]
        }
      ]
    },
    {
      "cell_type": "code",
      "source": [
        "#Q.9) Accept String & print only alternate characters on a string. Ex: this i s a _ test"
      ],
      "metadata": {
        "id": "ZqU-FuGXvT7Q"
      },
      "execution_count": 47,
      "outputs": []
    },
    {
      "cell_type": "code",
      "source": [
        "str = \"this_is_a_test\"\n",
        "modified_str= str[1:len(str):2]\n",
        "print(modified_str)"
      ],
      "metadata": {
        "colab": {
          "base_uri": "https://localhost:8080/"
        },
        "id": "Hl9DfrYEw0Zd",
        "outputId": "3dc068ac-5bf1-4622-b701-c8436867ea2f"
      },
      "execution_count": 71,
      "outputs": [
        {
          "output_type": "stream",
          "name": "stdout",
          "text": [
            "hsi__et\n"
          ]
        }
      ]
    },
    {
      "cell_type": "code",
      "source": [
        ""
      ],
      "metadata": {
        "id": "Dendrnj_0SK3"
      },
      "execution_count": null,
      "outputs": []
    }
  ]
}